{
 "cells": [
  {
   "cell_type": "markdown",
   "id": "f69d74f8",
   "metadata": {},
   "source": [
    "### Select top 10 and bottom 10 most-frequent queries from pubmed-data.tsv"
   ]
  },
  {
   "cell_type": "markdown",
   "id": "8b701367",
   "metadata": {},
   "source": [
    "Team 2<br>\n",
    "Melanie Huston"
   ]
  },
  {
   "cell_type": "code",
   "execution_count": null,
   "id": "a96da174",
   "metadata": {},
   "outputs": [],
   "source": [
    "import pandas as pd\n",
    "import numpy as np"
   ]
  },
  {
   "cell_type": "code",
   "execution_count": null,
   "id": "246bc658",
   "metadata": {},
   "outputs": [],
   "source": [
    "pd.set_option('display.float_format', '{:.2f}'.format)"
   ]
  },
  {
   "cell_type": "code",
   "execution_count": null,
   "id": "ee9a57c7",
   "metadata": {
    "scrolled": true
   },
   "outputs": [],
   "source": [
    "# read in supplied query log data\n",
    "fpath = '/data/pubmed-data.tsv'\n",
    "data = pd.read_csv(fpath,sep=\"\\t\")\n",
    "data.head()"
   ]
  },
  {
   "cell_type": "markdown",
   "id": "9da5b858",
   "metadata": {},
   "source": [
    "<strong>Strategy for Top 10 Queries:</strong><br>\n",
    "Only consider queries that have clicks (filter)<br>\n",
    "Only include queries were no PubMed search filter was applied (\"filters\" == \"None\") (filter)<br>\n",
    "Consider queries that were run at least once with \"relevance\" sort and at least once with \"date\" sort (filter)<br>\n",
    "Maximize the unique dates queries were run (sort descending)<br>\n",
    "Maximize the unique number of user ids who ran a query (sort descending)<br>\n",
    "Manually select the top ten informational health condition queries"
   ]
  },
  {
   "cell_type": "code",
   "execution_count": null,
   "id": "cae10401",
   "metadata": {},
   "outputs": [],
   "source": [
    "# filter out searches with no clicks on results\n",
    "print(len(data))\n",
    "onlyclicksdata = data[data[\"click_data\"] != \"NoClicks\"].copy()\n",
    "print(len(onlyclicksdata))"
   ]
  },
  {
   "cell_type": "code",
   "execution_count": null,
   "id": "6b0009ee",
   "metadata": {
    "scrolled": true
   },
   "outputs": [],
   "source": [
    "onlyclicksdata.head()"
   ]
  },
  {
   "cell_type": "code",
   "execution_count": null,
   "id": "34419014",
   "metadata": {},
   "outputs": [],
   "source": [
    "# filter out searches with additional PubMed search filters applied\n",
    "print(len(onlyclicksdata))\n",
    "onlyclicks_nofilters_data = onlyclicksdata[onlyclicksdata[\"filters\"] == \"None\"].copy()\n",
    "print(len(onlyclicks_nofilters_data))"
   ]
  },
  {
   "cell_type": "code",
   "execution_count": null,
   "id": "1ba99462",
   "metadata": {},
   "outputs": [],
   "source": [
    "# create set of processed_query terms where a date sort was used at least once\n",
    "datesort_set = set(onlyclicks_nofilters_data[onlyclicks_nofilters_data[\"sort_algorithm\"]=='date']['processed_query'])\n",
    "len(datesort_set)"
   ]
  },
  {
   "cell_type": "code",
   "execution_count": null,
   "id": "731cb059",
   "metadata": {},
   "outputs": [],
   "source": [
    "# create set of processed_query terms where a best match sort was used at least once\n",
    "bmsort_set = set(onlyclicks_nofilters_data[onlyclicks_nofilters_data[\"sort_algorithm\"]=='relevance']['processed_query'])\n",
    "len(bmsort_set)"
   ]
  },
  {
   "cell_type": "code",
   "execution_count": null,
   "id": "f9964c66",
   "metadata": {},
   "outputs": [],
   "source": [
    "# create set of processed_query terms that's the intersection of the date sort and best match sort sets\n",
    "bothsort_set = bmsort_set.intersection(datesort_set)\n",
    "len(bothsort_set)"
   ]
  },
  {
   "cell_type": "code",
   "execution_count": null,
   "id": "7efcdb84",
   "metadata": {},
   "outputs": [],
   "source": [
    "# filter to only include processed_query searches where date sort and best match sort were used\n",
    "selecteddata = onlyclicks_nofilters_data[onlyclicks_nofilters_data[\"processed_query\"].isin(list(bothsort_set))].copy()\n",
    "selecteddata.head(10)"
   ]
  },
  {
   "cell_type": "code",
   "execution_count": null,
   "id": "7efc1ae7",
   "metadata": {},
   "outputs": [],
   "source": [
    "# add total_dates column with the number of unique dates a processed_query was run\n",
    "selecteddata['total_dates'] = selecteddata.groupby(['processed_query'])['date'].transform('nunique')\n",
    "selecteddata.head()"
   ]
  },
  {
   "cell_type": "code",
   "execution_count": null,
   "id": "bfc107a1",
   "metadata": {},
   "outputs": [],
   "source": [
    "# add total_user_id column with the number of unique user ids associated with a processed_query\n",
    "selecteddata['total_user_id'] = selecteddata.groupby(['processed_query'])['user_id'].transform('nunique')\n",
    "selecteddata.head()"
   ]
  },
  {
   "cell_type": "code",
   "execution_count": null,
   "id": "d7927080",
   "metadata": {
    "scrolled": true
   },
   "outputs": [],
   "source": [
    "# kludge transformation to get an occurrence count for each processed_query\n",
    "selecteddata['total_occurrences'] = selecteddata.groupby(['processed_query'])['processed_query'].transform('count')\n",
    "selecteddata"
   ]
  },
  {
   "cell_type": "code",
   "execution_count": null,
   "id": "931664d1",
   "metadata": {},
   "outputs": [],
   "source": [
    "# aggregate into a single row for each processed_query, with its total dates, total user ids and total occurrences\n",
    "# total dates, total user ids and total occurrences are already the same for each row so we can use .max()\n",
    "agg_selecteddata = selecteddata.groupby(['processed_query'])[['total_dates', 'total_user_id', 'total_occurrences']].max()\n",
    "\n",
    "# sort descending by total occurrences for the top queries\n",
    "agg_selecteddata=agg_selecteddata.sort_values(by=[\"total_occurrences\",'total_user_id','total_dates'],ascending=False)\n",
    "agg_selecteddata.head(15)\n",
    "\n",
    "# Manually select the top ten health condition informational queries \n",
    "# (i.e., not navigational or known citation queries, and not queries with search tags)"
   ]
  },
  {
   "cell_type": "markdown",
   "id": "350e6093",
   "metadata": {},
   "source": [
    "<strong>Strategy for Bottom 10 Queries:</strong><br>\n",
    "Using the same dataframe selecteddata generated above for the top 10 queries:<br>\n",
    "Add column for average number of results returned and maximize this number for selected low-frequency queries (sort)<br>\n",
    "Only consider queries that have at least one user id associated (filter)<br><br>\n",
    "In order to limit the pool of possible low-frequency, long-tail queries:<br>\n",
    "Consider queries that have two occurrences and at least 100 results on average (filter)<br>\n",
    "Manually select the first ten health condition information queries that do not duplicate top-10 query concepts"
   ]
  },
  {
   "cell_type": "code",
   "execution_count": null,
   "id": "51651734",
   "metadata": {
    "scrolled": true
   },
   "outputs": [],
   "source": [
    "# add avg_result_count column with the average number of results returned by a processed_query\n",
    "selecteddata['avg_result_count'] = selecteddata.groupby(['processed_query'])['result_count'].transform('mean')\n",
    "\n",
    "selecteddata.head(10)"
   ]
  },
  {
   "cell_type": "code",
   "execution_count": null,
   "id": "c3e4831f",
   "metadata": {},
   "outputs": [],
   "source": [
    "# aggregate into a single row for each processed_query, \n",
    "# with its total dates, total user ids, average results and total occurrences\n",
    "agg_bottom10_selecteddata = selecteddata.groupby(['processed_query'])[['total_dates','total_user_id', 'avg_result_count','total_occurrences']].max()\n",
    "\n",
    "agg_bottom10_selecteddata.tail(10)"
   ]
  },
  {
   "cell_type": "code",
   "execution_count": null,
   "id": "c31de266",
   "metadata": {},
   "outputs": [],
   "source": [
    "# filter out low-frequency searches with only one occurrence\n",
    "agg_bottom10_selecteddata_minusers = agg_bottom10_selecteddata[agg_bottom10_selecteddata[\"total_user_id\"]>1.0].copy()\n",
    "agg_bottom10_selecteddata_minusers.tail(20)"
   ]
  },
  {
   "cell_type": "code",
   "execution_count": null,
   "id": "7042b81d",
   "metadata": {
    "scrolled": false
   },
   "outputs": [],
   "source": [
    "# investigate low-frequency searches with two occurrences and average results over 100\n",
    "agg_bottom10_two_occurrences = agg_bottom10_selecteddata_minusers[(agg_bottom10_selecteddata_minusers[\"total_occurrences\"]==2.0) & (agg_bottom10_selecteddata_minusers[\"avg_result_count\"]>100.0)].copy()\n",
    "print(len(agg_bottom10_two_occurrences))\n",
    "\n",
    "# sort this subset by average result count, descending\n",
    "agg_bottom10_two_occurrences = agg_bottom10_two_occurrences.sort_values(by='avg_result_count',ascending=False)\n",
    "agg_bottom10_two_occurrences.reset_index(inplace=True, drop=False)\n",
    "agg_bottom10_two_occurrences[0:100]\n",
    "\n",
    "# Manually select the first ten health condition informational queries that do not duplicate top-10 query concepts\n",
    "# (i.e., not navigational or known citation queries, and not queries with search tags)"
   ]
  },
  {
   "cell_type": "markdown",
   "id": "b7ef6f1c",
   "metadata": {},
   "source": [
    "<strong>Write out source data to team folder</strong>"
   ]
  },
  {
   "cell_type": "code",
   "execution_count": null,
   "id": "9a5d8815",
   "metadata": {},
   "outputs": [],
   "source": [
    "# this dataframe contains all data used to select top ten and bottom ten searches\n",
    "fpath = '/data/team2/top_bottom_queries_source_data.csv'\n",
    "agg_bottom10_selecteddata.to_csv(fpath)"
   ]
  },
  {
   "cell_type": "code",
   "execution_count": null,
   "id": "738f632f",
   "metadata": {},
   "outputs": [],
   "source": [
    "!ls /data/team2"
   ]
  }
 ],
 "metadata": {
  "kernelspec": {
   "display_name": "Python 3 (ipykernel)",
   "language": "python",
   "name": "python3"
  },
  "language_info": {
   "codemirror_mode": {
    "name": "ipython",
    "version": 3
   },
   "file_extension": ".py",
   "mimetype": "text/x-python",
   "name": "python",
   "nbconvert_exporter": "python",
   "pygments_lexer": "ipython3",
   "version": "3.9.7"
  }
 },
 "nbformat": 4,
 "nbformat_minor": 5
}
