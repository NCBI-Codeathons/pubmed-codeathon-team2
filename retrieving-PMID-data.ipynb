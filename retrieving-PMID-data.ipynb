{
 "cells": [
  {
   "cell_type": "code",
   "execution_count": null,
   "metadata": {},
   "outputs": [],
   "source": [
    "import pandas as pd\n",
    "import numpy as np\n",
    "import matplotlib.pyplot as plt\n",
    "import requests\n",
    "import xmltodict\n",
    "import json\n",
    "from collections import Counter"
   ]
  },
  {
   "cell_type": "code",
   "execution_count": null,
   "metadata": {},
   "outputs": [],
   "source": [
    "fpath = '/data/pubmed-data.tsv'"
   ]
  },
  {
   "cell_type": "markdown",
   "metadata": {},
   "source": [
    "## Reading in Search History data"
   ]
  },
  {
   "cell_type": "code",
   "execution_count": null,
   "metadata": {},
   "outputs": [],
   "source": [
    "data = pd.read_csv(fpath, sep='\\t')"
   ]
  },
  {
   "cell_type": "code",
   "execution_count": null,
   "metadata": {},
   "outputs": [],
   "source": [
    "data.shape"
   ]
  },
  {
   "cell_type": "code",
   "execution_count": null,
   "metadata": {},
   "outputs": [],
   "source": [
    "data.head()"
   ]
  },
  {
   "cell_type": "code",
   "execution_count": null,
   "metadata": {},
   "outputs": [],
   "source": [
    "data[data['query_term']=='covid 19']"
   ]
  },
  {
   "cell_type": "markdown",
   "metadata": {},
   "source": [
    "## Getting list of PMIDs"
   ]
  },
  {
   "cell_type": "code",
   "execution_count": null,
   "metadata": {},
   "outputs": [],
   "source": [
    "pmids = data['PMID'].tolist()\n",
    "pmid_list = []\n",
    "for i in pmids:\n",
    "    pmid_list.extend(i.split(','))"
   ]
  },
  {
   "cell_type": "code",
   "execution_count": null,
   "metadata": {},
   "outputs": [],
   "source": [
    "print(\"Total number of PMIDs: {}\".format(len(pmid_list)))\n",
    "print(\"Unique number of PMIDs: {}\".format(len(set(pmid_list))))"
   ]
  },
  {
   "cell_type": "code",
   "execution_count": null,
   "metadata": {},
   "outputs": [],
   "source": [
    "most_common = Counter(pmid_list).most_common()[:10]"
   ]
  },
  {
   "cell_type": "code",
   "execution_count": null,
   "metadata": {},
   "outputs": [],
   "source": [
    "most_common_ids = [i[0] for i in most_common]"
   ]
  },
  {
   "cell_type": "code",
   "execution_count": null,
   "metadata": {},
   "outputs": [],
   "source": [
    "most_common_ids"
   ]
  },
  {
   "cell_type": "code",
   "execution_count": null,
   "metadata": {},
   "outputs": [],
   "source": [
    "most_common_dict = {}\n",
    "for i in most_common:\n",
    "    key = i[0]\n",
    "    val = i[1]\n",
    "    most_common_dict[key] = val"
   ]
  },
  {
   "cell_type": "code",
   "execution_count": null,
   "metadata": {},
   "outputs": [],
   "source": [
    "pmids = data['PMID'].tolist()\n",
    "pmid_list = []\n",
    "nums = []\n",
    "for i in pmids:\n",
    "    nums.append(len(i))\n",
    "    pmid_list.extend(i.split(',')[:10])"
   ]
  },
  {
   "cell_type": "code",
   "execution_count": null,
   "metadata": {},
   "outputs": [],
   "source": [
    "data['num_results'] = nums"
   ]
  },
  {
   "cell_type": "markdown",
   "metadata": {},
   "source": [
    "## Search Summary Stats"
   ]
  },
  {
   "cell_type": "code",
   "execution_count": null,
   "metadata": {},
   "outputs": [],
   "source": [
    "print(f\"Median number of search results: {data['num_results'].median()}\")\n",
    "plt.hist(data['num_results'])\n",
    "plt.title(\"Number of results (all searches)\");"
   ]
  },
  {
   "cell_type": "code",
   "execution_count": null,
   "metadata": {},
   "outputs": [],
   "source": [
    "data['sort_algorithm'].value_counts().to_dict()"
   ]
  },
  {
   "cell_type": "markdown",
   "metadata": {},
   "source": [
    "## Getting data from Pubmed"
   ]
  },
  {
   "cell_type": "code",
   "execution_count": null,
   "metadata": {},
   "outputs": [],
   "source": [
    "def request_pmids(ids):\n",
    "    list_ids = ','.join(ids)\n",
    "    url = \"https://eutilspreview.ncbi.nlm.nih.gov/entrez/eutils/efetch.fcgi?db=pubmed&id={}\".format(list_ids)\n",
    "    r = requests.get(url)\n",
    "    return json.dumps(xmltodict.parse(r.text))"
   ]
  },
  {
   "cell_type": "code",
   "execution_count": null,
   "metadata": {},
   "outputs": [],
   "source": [
    "# getting metadata for 10 most common\n",
    "jsonString = request_pmids(most_common_ids)"
   ]
  },
  {
   "cell_type": "code",
   "execution_count": null,
   "metadata": {},
   "outputs": [],
   "source": [
    "json.loads(jsonString)['PubmedArticleSet']['PubmedArticle'][0]"
   ]
  },
  {
   "cell_type": "markdown",
   "metadata": {},
   "source": [
    "## Parsing Pubmed data"
   ]
  },
  {
   "cell_type": "code",
   "execution_count": null,
   "metadata": {},
   "outputs": [],
   "source": [
    "def get_abstract(record):\n",
    "    \n",
    "    abstract = ''\n",
    "    hasStructuredAbstract=False\n",
    "    try: \n",
    "        if record['MedlineCitation']['Article']['Abstract']:\n",
    "            if record['MedlineCitation']['Article']['Abstract']['AbstractText']:\n",
    "                abstract = record['MedlineCitation']['Article']['Abstract']['AbstractText']\n",
    "                if type(abstract)==dict:\n",
    "                    try:\n",
    "                        abstract = abstract['#text']\n",
    "                    except:\n",
    "                        pass\n",
    "                elif type(abstract)==list:\n",
    "                    hasStructuredAbstract=True\n",
    "                \n",
    "    except Exception as e:\n",
    "        pass\n",
    "    \n",
    "    if abstract == '':\n",
    "        print(\"Did not retrieve an abstract\")\n",
    "    \n",
    "    return abstract, hasStructuredAbstract\n",
    "    \n",
    "def get_pubtype(record):\n",
    "    pubs = []\n",
    "    try:\n",
    "        if record['MedlineCitation']['Article']['PublicationTypeList']['PublicationType']:\n",
    "            if type(record['MedlineCitation']['Article']['PublicationTypeList']['PublicationType'])==list:\n",
    "                for i in record['MedlineCitation']['Article']['PublicationTypeList']['PublicationType']:\n",
    "                    pubs.append(i['#text'])\n",
    "            else:\n",
    "                pubs.append(record['MedlineCitation']['Article']['PublicationTypeList']['PublicationType']['#text'])\n",
    "    except Exception as e:\n",
    "        print(\"** Error retrieving pubtype\")\n",
    "        print(e)\n",
    "    \n",
    "    return pubs\n",
    "\n",
    "def get_title(record):\n",
    "    try:\n",
    "        return record['MedlineCitation']['Article']['ArticleTitle']['#text']\n",
    "    except Exception as e:\n",
    "        return record['MedlineCitation']['Article']['ArticleTitle']\n",
    "        "
   ]
  },
  {
   "cell_type": "code",
   "execution_count": null,
   "metadata": {},
   "outputs": [],
   "source": [
    "def extract_xml(jsonString):\n",
    "    parsed = []\n",
    "    res = json.loads(jsonString)['PubmedArticleSet']['PubmedArticle']\n",
    "    for i in res:   \n",
    "        pmid = int(i['MedlineCitation']['PMID']['#text'])\n",
    "        print(f\"\\nExtracting {pmid}\")\n",
    "        try:\n",
    "            abstract, hasStructuredAbstract = get_abstract(i)\n",
    "            hasAbstract = bool(abstract)\n",
    "            record = {\n",
    "                \"pmid\": pmid,\n",
    "                \"journal\": i['MedlineCitation']['Article']['Journal']['Title'],\n",
    "                \"title\": get_title(i),\n",
    "                \"abstract\": abstract,\n",
    "                \"hasAbstract\": hasAbstract,\n",
    "                \"hasStructuredAbstract\": hasStructuredAbstract,\n",
    "                \"pubtype\": get_pubtype(i)\n",
    "            }\n",
    "            parsed.append(record)\n",
    "        except Exception as e:\n",
    "            print(\"** Error extracting XML\")\n",
    "            print(e)\n",
    "    \n",
    "    return parsed"
   ]
  },
  {
   "cell_type": "code",
   "execution_count": null,
   "metadata": {},
   "outputs": [],
   "source": [
    "parsed = extract_xml(jsonString)"
   ]
  },
  {
   "cell_type": "code",
   "execution_count": null,
   "metadata": {},
   "outputs": [],
   "source": [
    "plist = []\n",
    "for i in parsed:\n",
    "    r = {\n",
    "        \"pmid\": i['pmid'],\n",
    "        \"title\": i['title'],\n",
    "        \"journal\": i['journal'],\n",
    "        \"pubtype\": i['pubtype'],\n",
    "        \"hasAbstract\": i['hasAbstract'],\n",
    "        \"hasStructuredAbstract\": i['hasStructuredAbstract'],\n",
    "        \"appears_in_results\": most_common_dict[str(i['pmid'])]\n",
    "    }\n",
    "    plist.append(r)"
   ]
  },
  {
   "cell_type": "code",
   "execution_count": null,
   "metadata": {},
   "outputs": [],
   "source": [
    "d = pd.DataFrame(plist)"
   ]
  },
  {
   "cell_type": "code",
   "execution_count": null,
   "metadata": {},
   "outputs": [],
   "source": [
    "d"
   ]
  }
 ],
 "metadata": {
  "kernelspec": {
   "display_name": "Python 3",
   "language": "python",
   "name": "python3"
  },
  "language_info": {
   "codemirror_mode": {
    "name": "ipython",
    "version": 3
   },
   "file_extension": ".py",
   "mimetype": "text/x-python",
   "name": "python",
   "nbconvert_exporter": "python",
   "pygments_lexer": "ipython3",
   "version": "3.8.5"
  }
 },
 "nbformat": 4,
 "nbformat_minor": 4
}
