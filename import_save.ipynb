{
 "cells": [
  {
   "cell_type": "markdown",
   "id": "6c9017bc",
   "metadata": {},
   "source": [
    "# Team 2 import and save data"
   ]
  },
  {
   "cell_type": "markdown",
   "id": "94b6f1b7",
   "metadata": {},
   "source": [
    "location of readable data\n",
    "\n",
    "            /data/pubmed-data.tsv\n",
    "            \n",
    "location of writeable dir\n",
    "            \n",
    "            /data/team2/\n"
   ]
  },
  {
   "cell_type": "code",
   "execution_count": 10,
   "id": "c8e2a817",
   "metadata": {},
   "outputs": [
    {
     "name": "stdout",
     "output_type": "stream",
     "text": [
      "Defaulting to user installation because normal site-packages is not writeable\n",
      "Requirement already satisfied: pandas in ./.local/lib/python3.9/site-packages (1.4.2)\n",
      "Requirement already satisfied: python-dateutil>=2.8.1 in /opt/tljh/user/lib/python3.9/site-packages (from pandas) (2.8.1)\n",
      "Requirement already satisfied: pytz>=2020.1 in /opt/tljh/user/lib/python3.9/site-packages (from pandas) (2022.1)\n",
      "Requirement already satisfied: numpy>=1.18.5 in /opt/tljh/user/lib/python3.9/site-packages (from pandas) (1.22.3)\n",
      "Requirement already satisfied: six>=1.5 in /opt/tljh/user/lib/python3.9/site-packages (from python-dateutil>=2.8.1->pandas) (1.16.0)\n"
     ]
    }
   ],
   "source": [
    "!pip install pandas\n",
    "import pandas as pd"
   ]
  },
  {
   "cell_type": "code",
   "execution_count": 7,
   "id": "838e363d",
   "metadata": {},
   "outputs": [
    {
     "data": {
      "text/html": [
       "<div>\n",
       "<style scoped>\n",
       "    .dataframe tbody tr th:only-of-type {\n",
       "        vertical-align: middle;\n",
       "    }\n",
       "\n",
       "    .dataframe tbody tr th {\n",
       "        vertical-align: top;\n",
       "    }\n",
       "\n",
       "    .dataframe thead th {\n",
       "        text-align: right;\n",
       "    }\n",
       "</style>\n",
       "<table border=\"1\" class=\"dataframe\">\n",
       "  <thead>\n",
       "    <tr style=\"text-align: right;\">\n",
       "      <th></th>\n",
       "      <th>search_id</th>\n",
       "      <th>query_term</th>\n",
       "      <th>filters</th>\n",
       "      <th>sort_algorithm</th>\n",
       "      <th>result_count</th>\n",
       "      <th>page_num</th>\n",
       "      <th>PMID</th>\n",
       "      <th>click_data</th>\n",
       "      <th>date</th>\n",
       "      <th>user_id</th>\n",
       "      <th>filters_active</th>\n",
       "      <th>processed_query</th>\n",
       "    </tr>\n",
       "  </thead>\n",
       "  <tbody>\n",
       "    <tr>\n",
       "      <th>0</th>\n",
       "      <td>--0im32mfvku4cesslp_7q:bcdf32b416db8defc59a9e5...</td>\n",
       "      <td>pollen allergen</td>\n",
       "      <td>None</td>\n",
       "      <td>date</td>\n",
       "      <td>11431</td>\n",
       "      <td>1</td>\n",
       "      <td>35289432,35280502,35267973,35265222,35263681,3...</td>\n",
       "      <td>NoClicks</td>\n",
       "      <td>2022-03-16</td>\n",
       "      <td>Z210511</td>\n",
       "      <td>False</td>\n",
       "      <td>pollen allergen</td>\n",
       "    </tr>\n",
       "    <tr>\n",
       "      <th>1</th>\n",
       "      <td>--0pulmnb15g9zqvin3qew:a36687cca419d408a8fc07b...</td>\n",
       "      <td>sacubitril valsartan and xiabetic</td>\n",
       "      <td>None</td>\n",
       "      <td>relevance</td>\n",
       "      <td>1406</td>\n",
       "      <td>1</td>\n",
       "      <td>31668014,33074526,33004114,28330649,33417876,3...</td>\n",
       "      <td>NoClicks</td>\n",
       "      <td>2022-03-16</td>\n",
       "      <td>Z342484</td>\n",
       "      <td>False</td>\n",
       "      <td>sacubitril valsartan and xiabetic</td>\n",
       "    </tr>\n",
       "    <tr>\n",
       "      <th>2</th>\n",
       "      <td>--beh2-embzwxbaldmvo-w:fd7e447a7b102cf1ec1c31b...</td>\n",
       "      <td>organoid</td>\n",
       "      <td>None</td>\n",
       "      <td>date</td>\n",
       "      <td>344</td>\n",
       "      <td>1</td>\n",
       "      <td>35278370,35245468,35245467,35245464,35190693,3...</td>\n",
       "      <td>NoClicks</td>\n",
       "      <td>2022-03-16</td>\n",
       "      <td>Z273203</td>\n",
       "      <td>False</td>\n",
       "      <td>organoid</td>\n",
       "    </tr>\n",
       "    <tr>\n",
       "      <th>3</th>\n",
       "      <td>--ez48ba9jyoxpzcgxpvmq:342fa0883e0991845d7197d...</td>\n",
       "      <td>alzheimer's and fish oil</td>\n",
       "      <td>None</td>\n",
       "      <td>relevance</td>\n",
       "      <td>696</td>\n",
       "      <td>1</td>\n",
       "      <td>30949921,31521398,29350557,31356838,22332096,3...</td>\n",
       "      <td>NoClicks</td>\n",
       "      <td>2022-03-16</td>\n",
       "      <td>Z95037</td>\n",
       "      <td>False</td>\n",
       "      <td>alzheimer's and fish oil</td>\n",
       "    </tr>\n",
       "    <tr>\n",
       "      <th>4</th>\n",
       "      <td>--gijgarezrbtkdhr0jdng:1955381aef88ba6bd5c5478...</td>\n",
       "      <td>regulation of puberty</td>\n",
       "      <td>pubt.review</td>\n",
       "      <td>relevance</td>\n",
       "      <td>1110</td>\n",
       "      <td>1</td>\n",
       "      <td>33406521,32199704,11987894,32427949,32698138,2...</td>\n",
       "      <td>*result_click,11987894,2022-03-16T20:52:11,1,F...</td>\n",
       "      <td>2022-03-16</td>\n",
       "      <td>Z381383</td>\n",
       "      <td>True</td>\n",
       "      <td>regulation of puberty</td>\n",
       "    </tr>\n",
       "  </tbody>\n",
       "</table>\n",
       "</div>"
      ],
      "text/plain": [
       "                                           search_id  \\\n",
       "0  --0im32mfvku4cesslp_7q:bcdf32b416db8defc59a9e5...   \n",
       "1  --0pulmnb15g9zqvin3qew:a36687cca419d408a8fc07b...   \n",
       "2  --beh2-embzwxbaldmvo-w:fd7e447a7b102cf1ec1c31b...   \n",
       "3  --ez48ba9jyoxpzcgxpvmq:342fa0883e0991845d7197d...   \n",
       "4  --gijgarezrbtkdhr0jdng:1955381aef88ba6bd5c5478...   \n",
       "\n",
       "                          query_term      filters sort_algorithm  \\\n",
       "0                    pollen allergen         None           date   \n",
       "1  sacubitril valsartan and xiabetic         None      relevance   \n",
       "2                           organoid         None           date   \n",
       "3           alzheimer's and fish oil         None      relevance   \n",
       "4              regulation of puberty  pubt.review      relevance   \n",
       "\n",
       "   result_count  page_num                                               PMID  \\\n",
       "0         11431         1  35289432,35280502,35267973,35265222,35263681,3...   \n",
       "1          1406         1  31668014,33074526,33004114,28330649,33417876,3...   \n",
       "2           344         1  35278370,35245468,35245467,35245464,35190693,3...   \n",
       "3           696         1  30949921,31521398,29350557,31356838,22332096,3...   \n",
       "4          1110         1  33406521,32199704,11987894,32427949,32698138,2...   \n",
       "\n",
       "                                          click_data        date  user_id  \\\n",
       "0                                           NoClicks  2022-03-16  Z210511   \n",
       "1                                           NoClicks  2022-03-16  Z342484   \n",
       "2                                           NoClicks  2022-03-16  Z273203   \n",
       "3                                           NoClicks  2022-03-16   Z95037   \n",
       "4  *result_click,11987894,2022-03-16T20:52:11,1,F...  2022-03-16  Z381383   \n",
       "\n",
       "   filters_active                    processed_query  \n",
       "0           False                    pollen allergen  \n",
       "1           False  sacubitril valsartan and xiabetic  \n",
       "2           False                           organoid  \n",
       "3           False           alzheimer's and fish oil  \n",
       "4            True              regulation of puberty  "
      ]
     },
     "execution_count": 7,
     "metadata": {},
     "output_type": "execute_result"
    }
   ],
   "source": [
    "fpath = '/data/pubmed-data.tsv'\n",
    "data = pd.read_csv(fpath, sep='\\t')\n",
    "data.head()"
   ]
  },
  {
   "cell_type": "code",
   "execution_count": 17,
   "id": "5127db39",
   "metadata": {},
   "outputs": [],
   "source": [
    "data_edit=data.loc[1:10,:]"
   ]
  },
  {
   "cell_type": "code",
   "execution_count": 18,
   "id": "2dc631c5",
   "metadata": {},
   "outputs": [],
   "source": [
    "data_edit.to_csv('/data/team2/test_skr.csv')"
   ]
  },
  {
   "cell_type": "code",
   "execution_count": null,
   "id": "8ec58f42",
   "metadata": {},
   "outputs": [],
   "source": []
  },
  {
   "cell_type": "code",
   "execution_count": null,
   "id": "baf0eeec",
   "metadata": {},
   "outputs": [],
   "source": []
  }
 ],
 "metadata": {
  "kernelspec": {
   "display_name": "Python 3 (ipykernel)",
   "language": "python",
   "name": "python3"
  },
  "language_info": {
   "codemirror_mode": {
    "name": "ipython",
    "version": 3
   },
   "file_extension": ".py",
   "mimetype": "text/x-python",
   "name": "python",
   "nbconvert_exporter": "python",
   "pygments_lexer": "ipython3",
   "version": "3.9.7"
  }
 },
 "nbformat": 4,
 "nbformat_minor": 5
}
