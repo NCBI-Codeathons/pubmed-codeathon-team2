{
 "cells": [
  {
   "cell_type": "code",
   "execution_count": null,
   "id": "31ae36bd",
   "metadata": {},
   "outputs": [],
   "source": [
    "import pandas as pd\n",
    "import os\n",
    "#!pip install sklearn\n",
    "import sklearn"
   ]
  },
  {
   "cell_type": "code",
   "execution_count": null,
   "id": "82c11f02",
   "metadata": {},
   "outputs": [],
   "source": [
    "cancer_df = pd.read_csv('/data/team2/top10data/cancer.csv')\n",
    "cancer_df['PMID'] = cancer_df['PMID'].apply(lambda x: x.split(','))\n",
    "exploded_df = cancer_df.explode('PMID')\n",
    "exploded_df = exploded_df.drop_duplicates('PMID')\n",
    "\n",
    "\n",
    "top_10_query_PMIDs = pd.read_csv('/data/team2/top_10_query_PMIDs_v2.csv').drop('Unnamed: 0', axis=1)\n",
    "top_10_query_PMIDs['PMID'] = top_10_query_PMIDs['pmid'].astype(str)\n",
    "\n",
    "# adding hasAbstract, hasStructuredAbstract, pubtype\n",
    "merged_df = exploded_df.merge(top_10_query_PMIDs, how='left', on = 'PMID')\n",
    "\n",
    "# adding one-hot encoded publication types\n",
    "merged_df1 = merged_df.join(pd.get_dummies(merged_df.pubtype, prefix='pubtype'))"
   ]
  }
 ],
 "metadata": {
  "kernelspec": {
   "display_name": "Python 3 (ipykernel)",
   "language": "python",
   "name": "python3"
  },
  "language_info": {
   "codemirror_mode": {
    "name": "ipython",
    "version": 3
   },
   "file_extension": ".py",
   "mimetype": "text/x-python",
   "name": "python",
   "nbconvert_exporter": "python",
   "pygments_lexer": "ipython3",
   "version": "3.9.7"
  }
 },
 "nbformat": 4,
 "nbformat_minor": 5
}
