{
 "cells": [
  {
   "cell_type": "code",
   "execution_count": 1,
   "id": "7baf929b",
   "metadata": {},
   "outputs": [],
   "source": [
    "import pickle\n",
    "import pandas as pd\n",
    "import scipy.stats"
   ]
  },
  {
   "cell_type": "code",
   "execution_count": 9,
   "id": "f3986686",
   "metadata": {},
   "outputs": [],
   "source": [
    "pd.options.display.max_columns = 163"
   ]
  },
  {
   "cell_type": "code",
   "execution_count": 142,
   "id": "2022a3bc",
   "metadata": {},
   "outputs": [],
   "source": [
    "d = pd.read_pickle('/data/team2/processed_pubmed_data_query_meta.pkl')"
   ]
  },
  {
   "cell_type": "code",
   "execution_count": 148,
   "id": "153dcc86",
   "metadata": {},
   "outputs": [],
   "source": [
    "kd_df = pd.read_csv('/data/team2/stats_KD.csv') # baseline results for the queries, pulled from the PubMed API"
   ]
  },
  {
   "cell_type": "code",
   "execution_count": 131,
   "id": "1c77f9e9",
   "metadata": {},
   "outputs": [],
   "source": [
    "data = d.copy()\n",
    "\n",
    "# create flags for whether the PMIDs were on the first page of search results,\n",
    "# for whether users clicked on them when they appeared in reverse chronological search,\n",
    "# and for whether users clicked on them when they appeard in best match\n",
    "data['TopTenFlag'] = data['rank'] <= 10\n",
    "data['RelevanceClicked'] = data['clicks_relevance_sort'] >= 1\n",
    "data['DateClicked'] = data['clicks_date_sort'] >= 1\n",
    "\n",
    "# cast these fields to string so that drop_duplicates works\n",
    "data['title'] = data['title'].astype(str)\n",
    "data['journal'] = data['journal'].astype(str)\n",
    "data['abstract'] = data['abstract'].astype(str)\n",
    "data['pubtype'] = data['pubtype'].astype(str)\n",
    "\n",
    "data['hasAbstract'] = data['hasAbstract'].map({True:1, False:0})\n",
    "data['hasStructuredAbstract'] = data['hasStructuredAbstract'].map({True:1, False:0})\n",
    "data_d = data.drop_duplicates()\n",
    "\n",
    "# keep only fields relevant for initial analysis\n",
    "data_re = data_d[['query', 'hasAbstract', 'hasStructuredAbstract', 'fulltext_status', 'sort', 'TopTenFlag', 'RelevanceClicked', 'DateClicked']]"
   ]
  },
  {
   "cell_type": "code",
   "execution_count": 132,
   "id": "b5f1c7f7",
   "metadata": {},
   "outputs": [],
   "source": [
    "# DEPRECATED: convert fulltext_status column to binary\n",
    "#data_re.loc[data_re.fulltext_status=='fulltext_available','fulltext_status'] = 1\n",
    "#data_re.loc[data_re.fulltext_status=='fulltext_unavailable','fulltext_status'] = 0\n"
   ]
  },
  {
   "cell_type": "code",
   "execution_count": 133,
   "id": "f4b81598",
   "metadata": {},
   "outputs": [],
   "source": [
    "# Create subsets for top ten results for both best match and date descending sort searches\n",
    "data_tt = data_re[data_re['TopTenFlag']==True]\n",
    "data_tt_rel = data_tt[data_tt['sort']=='relevance_res']\n",
    "data_tt_date = data_tt[data_tt['sort']=='date_desc_res']"
   ]
  },
  {
   "cell_type": "code",
   "execution_count": 134,
   "id": "bbaebeba",
   "metadata": {},
   "outputs": [],
   "source": [
    "# Create subsets for clicked results for both best match and date descending sort searches\n",
    "data_rel_clicked = data_re[data_re['RelevanceClicked']==True]\n",
    "data_date_clicked = data_re[data_re['DateClicked']==True]"
   ]
  },
  {
   "cell_type": "code",
   "execution_count": 155,
   "id": "8ea6061c",
   "metadata": {},
   "outputs": [],
   "source": [
    "# Data in the top 10 query results for BestMatch, test chi square function\n",
    "tt_rel_res = data_tt_rel[['query', 'hasAbstract', 'hasStructuredAbstract', 'fulltext_status']].groupby(['query']).agg({'hasAbstract':'sum','hasStructuredAbstract':'sum', 'fulltext_status':sum}).reset_index()\n",
    "scipy.stats.chisquare((tt_rel_res['fulltext_status']/tt_rel_res['fulltext_status'].sum()).tolist(), f_exp=(kd_df['RELEVANCE_hasFulltext']/kd_df['RELEVANCE_hasFulltext'].sum()).tolist())"
   ]
  },
  {
   "cell_type": "code",
   "execution_count": 166,
   "id": "46f8aa1c",
   "metadata": {},
   "outputs": [],
   "source": [
    "def final_df(base_df):\n",
    "    '''\n",
    "    Input\n",
    "    :base_df: pandas dataframe, with the fields ['query', 'hasAbstract', 'hasStructuredAbstract', 'fulltext_status']\n",
    "    \n",
    "    Output\n",
    "    Returns a dataframe with counts grouped by query\n",
    "    '''\n",
    "    return base_df[['query', 'hasAbstract', 'hasStructuredAbstract', 'fulltext_status']].groupby(['query']).agg({'hasAbstract':'sum','hasStructuredAbstract':'sum', 'fulltext_status':sum}).reset_index()"
   ]
  },
  {
   "cell_type": "code",
   "execution_count": 167,
   "id": "621320d5",
   "metadata": {},
   "outputs": [],
   "source": [
    "def results(baseline_df, other_df, baseline_col, other_col):\n",
    "    '''\n",
    "    Inputs\n",
    "    :baseline_df: pandas dataframe, containing counts of the data from the baseline dataset\n",
    "    :other_df: pandas dataframe, containg counts of the data from a sample dataset\n",
    "    :baseline_col: str, the column name of the specific count-feature to compare in the baseline dataframe\n",
    "    :other_col: str, the column name of the specific count-feature to compare in the baseline dataframe\n",
    "    '''\n",
    "    print(scipy.stats.chisquare(f_obs=(other_df[other_col]/other_df[other_col].sum()).tolist(), f_exp=(baseline_df[baseline_col]/baseline_df[baseline_col].sum()).tolist()))\n",
    "    "
   ]
  },
  {
   "cell_type": "code",
   "execution_count": 182,
   "id": "8d23d12d",
   "metadata": {},
   "outputs": [
    {
     "name": "stdout",
     "output_type": "stream",
     "text": [
      "Top 10 BM vs Baseline for Full Text\n",
      "Power_divergenceResult(statistic=1.3796995028357295, pvalue=0.999999986082397)\n",
      "\n",
      "Clicked BM vs Baseline for Full Text\n",
      "Power_divergenceResult(statistic=3.216704368121578, pvalue=0.9999809966745193)\n",
      "\n",
      "Top 10 Date Sort vs Baseline for Full Text\n",
      "Power_divergenceResult(statistic=nan, pvalue=nan)\n",
      "\n",
      "Top 10 BM vs Baseline for Abstract\n",
      "Power_divergenceResult(statistic=0.5457789245894598, pvalue=0.9999999999969771)\n",
      "\n",
      "Clicked BM vs Baseline for Abstract\n",
      "Power_divergenceResult(statistic=0.9832794774117473, pvalue=0.9999999993339146)\n",
      "\n",
      "Top 10 Date Sort vs Baseline for Abstract\n",
      "Power_divergenceResult(statistic=0.01926146968702393, pvalue=1.0)\n",
      "\n",
      "Top 10 BM vs Baseline for Structured Abstract\n",
      "Power_divergenceResult(statistic=1.8938651896223437, pvalue=0.9999997760587044)\n",
      "\n",
      "Clicked BM vs Baseline for Structured Abstract\n",
      "Power_divergenceResult(statistic=3.8913489712487968, pvalue=0.9999140930957853)\n",
      "\n",
      "Top 10 Date Sort vs Baseline for Structured Abstract\n",
      "Power_divergenceResult(statistic=0.27278840291023443, pvalue=0.9999999999999953)\n"
     ]
    },
    {
     "name": "stderr",
     "output_type": "stream",
     "text": [
      "/home/jupyter-leo.meister/.local/lib/python3.9/site-packages/scipy/stats/_stats_py.py:6766: RuntimeWarning: invalid value encountered in true_divide\n",
      "  terms = (f_obs_float - f_exp)**2 / f_exp\n"
     ]
    }
   ],
   "source": [
    "# Testing\n",
    "\n",
    "# Top 10 BM vs Baseline for Frequency\n",
    "print('Top 10 BM vs Baseline for Full Text')\n",
    "results(kd_df, final_df(data_tt_rel), 'RELEVANCE_hasFulltext', 'fulltext_status')\n",
    "\n",
    "print('\\nClicked BM vs Baseline for Full Text')\n",
    "results(kd_df, final_df(data_rel_clicked), 'RELEVANCE_hasFulltext', 'fulltext_status')\n",
    "\n",
    "print('\\nTop 10 Date Sort vs Baseline for Full Text')\n",
    "results(kd_df, final_df(data_tt_date), 'DATE_DESC_hasFulltext', 'fulltext_status')\n",
    "\n",
    "# missing values for this\n",
    "#print('\\nClicked Date Sort vs Baseline for Full Text')\n",
    "#results(kd_df, final_df(data_date_clicked), 'DATE_DESC_hasFulltext', 'fulltext_status')\n",
    "\n",
    "print('\\nTop 10 BM vs Baseline for Abstract')\n",
    "results(kd_df, final_df(data_tt_rel), 'RELEVANCE_hasAbstract', 'hasAbstract')\n",
    "\n",
    "print('\\nClicked BM vs Baseline for Abstract')\n",
    "results(kd_df, final_df(data_rel_clicked), 'RELEVANCE_hasAbstract', 'hasAbstract')\n",
    "\n",
    "print('\\nTop 10 Date Sort vs Baseline for Abstract')\n",
    "results(kd_df, final_df(data_tt_date), 'DATE_DESC_hasAbstract', 'hasAbstract')\n",
    "\n",
    "\n",
    "\n",
    "print('\\nTop 10 BM vs Baseline for Structured Abstract')\n",
    "results(kd_df, final_df(data_tt_rel), 'RELEVANCE_hasStructuredAbstract', 'hasStructuredAbstract')\n",
    "\n",
    "print('\\nClicked BM vs Baseline for Structured Abstract')\n",
    "results(kd_df, final_df(data_rel_clicked), 'RELEVANCE_hasStructuredAbstract', 'hasStructuredAbstract')\n",
    "\n",
    "print('\\nTop 10 Date Sort vs Baseline for Structured Abstract')\n",
    "results(kd_df, final_df(data_tt_date), 'DATE_DESC_hasStructuredAbstract', 'hasStructuredAbstract')\n",
    "\n"
   ]
  },
  {
   "cell_type": "code",
   "execution_count": 184,
   "id": "0885e017",
   "metadata": {},
   "outputs": [
    {
     "name": "stdout",
     "output_type": "stream",
     "text": [
      "\n",
      "Baseline Date Sort vs Baseline Best Match Full Text\n",
      "Power_divergenceResult(statistic=0.8195970215326666, pvalue=0.999999999872844)\n",
      "\n",
      "Baseline Date Sort vs Baseline Best Match Abstract\n",
      "Power_divergenceResult(statistic=0.07561090919527931, pvalue=1.0)\n",
      "\n",
      "Baseline Date Sort vs Baseline Best Match Structured Abstract\n",
      "Power_divergenceResult(statistic=0.7790455549603466, pvalue=0.9999999999200313)\n"
     ]
    }
   ],
   "source": [
    "print('\\nBaseline Date Sort vs Baseline Best Match Full Text')\n",
    "results(kd_df, kd_df, 'RELEVANCE_hasFulltext', 'DATE_DESC_hasFulltext')\n",
    "\n",
    "print('\\nBaseline Date Sort vs Baseline Best Match Abstract')\n",
    "results(kd_df, kd_df, 'RELEVANCE_hasAbstract', 'DATE_DESC_hasAbstract')\n",
    "\n",
    "print('\\nBaseline Date Sort vs Baseline Best Match Structured Abstract')\n",
    "results(kd_df, kd_df, 'RELEVANCE_hasStructuredAbstract', 'DATE_DESC_hasStructuredAbstract')\n",
    "\n"
   ]
  },
  {
   "cell_type": "code",
   "execution_count": null,
   "id": "9a446e1b",
   "metadata": {},
   "outputs": [],
   "source": []
  },
  {
   "cell_type": "code",
   "execution_count": null,
   "id": "a6aa96d4",
   "metadata": {},
   "outputs": [],
   "source": []
  },
  {
   "cell_type": "code",
   "execution_count": null,
   "id": "eb057279",
   "metadata": {},
   "outputs": [],
   "source": []
  }
 ],
 "metadata": {
  "kernelspec": {
   "display_name": "Python 3 (ipykernel)",
   "language": "python",
   "name": "python3"
  },
  "language_info": {
   "codemirror_mode": {
    "name": "ipython",
    "version": 3
   },
   "file_extension": ".py",
   "mimetype": "text/x-python",
   "name": "python",
   "nbconvert_exporter": "python",
   "pygments_lexer": "ipython3",
   "version": "3.9.7"
  }
 },
 "nbformat": 4,
 "nbformat_minor": 5
}
